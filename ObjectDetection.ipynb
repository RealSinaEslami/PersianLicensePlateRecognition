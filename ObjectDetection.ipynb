{
 "cells": [
  {
   "cell_type": "markdown",
   "id": "2f31a364",
   "metadata": {},
   "source": [
    "#### 1. Import Dependencies"
   ]
  },
  {
   "cell_type": "code",
   "execution_count": null,
   "id": "0f73a2d4",
   "metadata": {},
   "outputs": [],
   "source": [
    "import warnings\n",
    "warnings.filterwarnings('ignore')\n",
    "\n",
    "import re\n",
    "import os\n",
    "import ast\n",
    "import random\n",
    "import shutil\n",
    "\n",
    "from tqdm import tqdm_notebook\n",
    "\n",
    "import xml.etree.ElementTree as xml\n",
    "\n",
    "import cv2 as cv\n",
    "import numpy as np\n",
    "import matplotlib.pyplot as plt\n",
    "\n",
    "from ultralytics import YOLO"
   ]
  },
  {
   "cell_type": "markdown",
   "id": "fb4b292f",
   "metadata": {},
   "source": [
    "#### 2. Define Paths"
   ]
  },
  {
   "cell_type": "code",
   "execution_count": null,
   "id": "43a624e4",
   "metadata": {},
   "outputs": [],
   "source": [
    "img_train = os.path.join(\"Yolo-Data/train/images/\")\n",
    "lbl_train = os.path.join(\"Yolo-Data/train/labels/\")\n",
    "img_test = os.path.join(\"Yolo-Data/val/images/\")\n",
    "lbl_test = os.path.join(\"Yolo-Data/val/labels/\")\n",
    "xml_path = os.path.join(\"Yolo-Data/xml/\")"
   ]
  },
  {
   "cell_type": "markdown",
   "id": "022259de",
   "metadata": {},
   "source": [
    "#### 3. Use the class below to load data"
   ]
  },
  {
   "cell_type": "code",
   "execution_count": null,
   "id": "ea4cf08a",
   "metadata": {},
   "outputs": [],
   "source": [
    "class DataLoader:\n",
    "\n",
    "    def load_image(path):\n",
    "        images = os.listdir(path)\n",
    "        images = sorted(images)\n",
    "\n",
    "        shapes = []\n",
    "        for file in images:\n",
    "            full_path = path+file\n",
    "            img = cv.imread(full_path)\n",
    "            shapes.append(img.shape)\n",
    "            img = cv.resize(img, (640,640))\n",
    "            cv.imwrite(full_path, img)\n",
    "\n",
    "        return(shapes)\n",
    "    \n",
    "    def load_xml(path, save_path, shapes):\n",
    "        \n",
    "        xmls = os.listdir(path)\n",
    "        xmls = sorted(xmls)\n",
    "        i = 0\n",
    "        for file in xmls:\n",
    "            try:\n",
    "                xml_file = xml.parse(path+file)\n",
    "                root = xml_file.getroot()\n",
    "            \n",
    "                xmin = int(float(root.find(\".//xmin\").text))\n",
    "                xmax = int(float(root.find(\".//xmax\").text))\n",
    "                ymin = int(float(root.find(\".//ymin\").text))\n",
    "                ymax = int(float(root.find(\".//ymax\").text))\n",
    "                \n",
    "                label_id = 0\n",
    "                x = ((xmin+xmax)/2)/shapes[i][1]\n",
    "                y = ((ymin+ymax)/2)/shapes[i][0]\n",
    "                width = (abs(xmin-xmax))/shapes[i][1]\n",
    "                height = (abs(ymin-ymax))/shapes[i][0]\n",
    "                \n",
    "                yolo_label = [0, x, y, width, height]\n",
    "                with open(f\"{save_path+(file.split('.')[0])}.txt\", \"w\") as f:\n",
    "                    f.write(f\"{label_id} {x} {y} {width} {height}\")\n",
    "    \n",
    "                i += 1\n",
    "\n",
    "            except xml.ParseError as e:\n",
    "                print(f\"XML ParseError in {path, file}: {e}\")\n",
    "            except FileNotFoundError:\n",
    "                print(f\"File not found: {path}\")\n",
    "            except Exception as e:\n",
    "                print(f\"Unexpected error: {e}\")"
   ]
  },
  {
   "cell_type": "markdown",
   "id": "69a37a6a",
   "metadata": {},
   "source": [
    "#### 4. Set the config of 'Yolo Model' based on what you need"
   ]
  },
  {
   "cell_type": "code",
   "execution_count": null,
   "id": "8038a526",
   "metadata": {},
   "outputs": [],
   "source": [
    "# Configuring .yaml file for the pathes of each class for training the YOLO model\n",
    "with open(\"setting.yaml\", 'w') as f:\n",
    "    f.write(\"\"\"\n",
    "train: Yolo-Data/train/images\n",
    "val: Yolo-Data/val/images\n",
    "nc: 1\n",
    "names: ['Plate']\n",
    "\"\"\")\n",
    "\n",
    "# It's possible to use torch to load YOLO model but i recommend you to use it the same way i did\n",
    "model = YOLO(\"yolov5s.pt\")\n",
    "results = model.train(data=\"setting.yaml\", epochs=3, imgsz=640)"
   ]
  }
 ],
 "metadata": {
  "kernelspec": {
   "display_name": "Pytorch-GPU",
   "language": "python",
   "name": "pytorch-gpu"
  },
  "language_info": {
   "codemirror_mode": {
    "name": "ipython",
    "version": 3
   },
   "file_extension": ".py",
   "mimetype": "text/x-python",
   "name": "python",
   "nbconvert_exporter": "python",
   "pygments_lexer": "ipython3",
   "version": "3.10.16"
  }
 },
 "nbformat": 4,
 "nbformat_minor": 5
}
